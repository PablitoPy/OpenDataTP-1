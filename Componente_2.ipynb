{
  "nbformat": 4,
  "nbformat_minor": 0,
  "metadata": {
    "colab": {
      "name": "Componente 2.ipynb",
      "provenance": [],
      "include_colab_link": true
    },
    "kernelspec": {
      "name": "python3",
      "display_name": "Python 3"
    },
    "language_info": {
      "name": "python"
    }
  },
  "cells": [
    {
      "cell_type": "markdown",
      "metadata": {
        "id": "view-in-github",
        "colab_type": "text"
      },
      "source": [
        "<a href=\"https://colab.research.google.com/github/PablitoPy/OpenDataTP-1/blob/master/Componente_2.ipynb\" target=\"_parent\"><img src=\"https://colab.research.google.com/assets/colab-badge.svg\" alt=\"Open In Colab\"/></a>"
      ]
    },
    {
      "cell_type": "code",
      "metadata": {
        "id": "Q4-uQZj8ax2F"
      },
      "source": [
        "#Módulos\n",
        "import requests\n",
        "import csv\n",
        "import pandas as pd\n",
        "from bs4 import BeautifulSoup\n",
        "from datetime import date"
      ],
      "execution_count": 1,
      "outputs": []
    },
    {
      "cell_type": "code",
      "metadata": {
        "id": "5hpOnIFAbzH8"
      },
      "source": [
        "#Headers\n",
        "headers = {\n",
        "    \"User-Agent\":\"Mozilla/5.0 (Windows NT 10.0; Win64; x64) AppleWebKit/537.36 (KHTML, like Gecko) Chrome/91.0.4472.77 Safari/537.36\", \n",
        "    \"Accept-Encoding\":\"gzip, deflate\", \"Accept\":\"text/html,application/xhtml+xml,application/xml;q=0.9,*/*;q=0.8\", \n",
        "    \"DNT\":\"1\",\n",
        "    \"Connection\":\"close\", \n",
        "    \"Upgrade-Insecure-Requests\":\"1\"\n",
        "    } "
      ],
      "execution_count": 2,
      "outputs": []
    },
    {
      "cell_type": "code",
      "metadata": {
        "id": "zrrysJ73b1k3"
      },
      "source": [
        "#Con múltiples páginas\n",
        "cont = 1 \n",
        "no_pages = 5 #cantidad de páginas a ser scrapeadas\n",
        "names = list ()\n",
        "prices = list()\n",
        "\n",
        "#Recorrer páginas y almacenar datos en las listas\n",
        "while cont <= no_pages:\n",
        "  response = requests.get('https://www.stock.com.py/category/400-jugueteria-jugueteria-primera-edad.aspx?pageindex='+str(cont), headers = headers)\n",
        "  content = response.content\n",
        "  soup = BeautifulSoup(content)\n",
        "  products = soup.find_all('div', {'col-lg-2 col-md-3 col-sm-4 col-xs-6 producto' })\n",
        "  for product in products:\n",
        "    name = product.find('a', {'class' : 'product-title-link' }).text\n",
        "    #print(name)\n",
        "    names.append(name)\n",
        "    price = product.find('span', {'class': 'price-label'}).text\n",
        "    #print(price)\n",
        "    prices.append(price)\n",
        "  cont = cont+1\n",
        "#print(names)\n",
        "#print(len(names))"
      ],
      "execution_count": 3,
      "outputs": []
    },
    {
      "cell_type": "code",
      "metadata": {
        "id": "A47S0kSe4fQE"
      },
      "source": [
        "#Crear DataFrame\n",
        "df = pd.DataFrame({\n",
        "    'Producto': names,\n",
        "    'Precio' : prices,\n",
        "    'Fecha' : date.today()\n",
        "})"
      ],
      "execution_count": 4,
      "outputs": []
    },
    {
      "cell_type": "code",
      "metadata": {
        "colab": {
          "base_uri": "https://localhost:8080/",
          "height": 206
        },
        "id": "xLdlAX1NdHZ8",
        "outputId": "a86e13ff-8d97-496c-f8f0-f6cdf5122e24"
      },
      "source": [
        "df.head()"
      ],
      "execution_count": 5,
      "outputs": [
        {
          "output_type": "execute_result",
          "data": {
            "text/html": [
              "<div>\n",
              "<style scoped>\n",
              "    .dataframe tbody tr th:only-of-type {\n",
              "        vertical-align: middle;\n",
              "    }\n",
              "\n",
              "    .dataframe tbody tr th {\n",
              "        vertical-align: top;\n",
              "    }\n",
              "\n",
              "    .dataframe thead th {\n",
              "        text-align: right;\n",
              "    }\n",
              "</style>\n",
              "<table border=\"1\" class=\"dataframe\">\n",
              "  <thead>\n",
              "    <tr style=\"text-align: right;\">\n",
              "      <th></th>\n",
              "      <th>Producto</th>\n",
              "      <th>Precio</th>\n",
              "      <th>Fecha</th>\n",
              "    </tr>\n",
              "  </thead>\n",
              "  <tbody>\n",
              "    <tr>\n",
              "      <th>0</th>\n",
              "      <td>JUEGO DIDACTICO PARA BEBE GUITARRA MK</td>\n",
              "      <td>3.100</td>\n",
              "      <td>2021-06-23</td>\n",
              "    </tr>\n",
              "    <tr>\n",
              "      <th>1</th>\n",
              "      <td>SONAJERO DE MANO PARA BEBE MK</td>\n",
              "      <td>5.200</td>\n",
              "      <td>2021-06-23</td>\n",
              "    </tr>\n",
              "    <tr>\n",
              "      <th>2</th>\n",
              "      <td>JUGUETE P/BEBE BOLSA PICA PAU REF 684</td>\n",
              "      <td>8.900</td>\n",
              "      <td>2021-06-23</td>\n",
              "    </tr>\n",
              "    <tr>\n",
              "      <th>3</th>\n",
              "      <td>JUGUETE P/BEBE BOLSA PICA PAU REF 687</td>\n",
              "      <td>13.800</td>\n",
              "      <td>2021-06-23</td>\n",
              "    </tr>\n",
              "    <tr>\n",
              "      <th>4</th>\n",
              "      <td>JUGUETE P/BEBE TROMPETA BOLSA PICA PAU REF 685</td>\n",
              "      <td>8.900</td>\n",
              "      <td>2021-06-23</td>\n",
              "    </tr>\n",
              "  </tbody>\n",
              "</table>\n",
              "</div>"
            ],
            "text/plain": [
              "                                         Producto    Precio       Fecha\n",
              "0           JUEGO DIDACTICO PARA BEBE GUITARRA MK     3.100  2021-06-23\n",
              "1                   SONAJERO DE MANO PARA BEBE MK     5.200  2021-06-23\n",
              "2           JUGUETE P/BEBE BOLSA PICA PAU REF 684     8.900  2021-06-23\n",
              "3           JUGUETE P/BEBE BOLSA PICA PAU REF 687    13.800  2021-06-23\n",
              "4  JUGUETE P/BEBE TROMPETA BOLSA PICA PAU REF 685     8.900  2021-06-23"
            ]
          },
          "metadata": {
            "tags": []
          },
          "execution_count": 5
        }
      ]
    },
    {
      "cell_type": "code",
      "metadata": {
        "id": "iQG43hDPdST8"
      },
      "source": [
        "#Guardar df en csv\n",
        "df.to_csv('tp_componente2.csv', index = False)"
      ],
      "execution_count": 7,
      "outputs": []
    }
  ]
}